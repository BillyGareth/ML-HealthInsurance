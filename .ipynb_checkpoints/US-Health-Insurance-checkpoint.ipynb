{
 "cells": [
  {
   "cell_type": "markdown",
   "id": "865f044a-9c1b-4a71-ae6e-77fb9ad2d819",
   "metadata": {},
   "source": [
    "## Regression Modelling using Insurance Dataset"
   ]
  },
  {
   "cell_type": "code",
   "execution_count": 1,
   "id": "6aa7d0e6-ef80-43e5-b065-d38b611ca146",
   "metadata": {
    "tags": []
   },
   "outputs": [],
   "source": [
    "#importing necessary libraries\n",
    "import numpy as np\n",
    "import pandas as pd\n",
    "import seaborn as sns\n",
    "import matplotlib.pyplot as plt\n",
    "from sklearn.preprocessing import LabelEncoder #for feature engineering \n",
    "from sklearn.model_selection import train_test_split\n",
    "from sklearn.linear_model import LinearRegression\n",
    "from sklearn.tree import DecisionTreeRegressor\n",
    "from sklearn.ensemble import RandomForestRegressor, GradientBoostingRegressor \n",
    "from sklearn.metrics import mean_squared_error, mean_absolute_error # for␣evaluating ml models"
   ]
  },
  {
   "cell_type": "code",
   "execution_count": null,
   "id": "cbaa5558-5bfe-49f0-9e82-ee68800239f9",
   "metadata": {},
   "outputs": [],
   "source": []
  }
 ],
 "metadata": {
  "kernelspec": {
   "display_name": "Python 3 (ipykernel)",
   "language": "python",
   "name": "python3"
  },
  "language_info": {
   "codemirror_mode": {
    "name": "ipython",
    "version": 3
   },
   "file_extension": ".py",
   "mimetype": "text/x-python",
   "name": "python",
   "nbconvert_exporter": "python",
   "pygments_lexer": "ipython3",
   "version": "3.11.5"
  }
 },
 "nbformat": 4,
 "nbformat_minor": 5
}
